{
  "nbformat": 4,
  "nbformat_minor": 0,
  "metadata": {
    "colab": {
      "name": "CHALLENGE_Regressao_Linear_Saula.ipynb",
      "provenance": []
    },
    "kernelspec": {
      "name": "python3",
      "display_name": "Python 3"
    },
    "language_info": {
      "name": "python"
    }
  },
  "cells": [
    {
      "cell_type": "markdown",
      "source": [
        "#Aluna: Saula Cecília\n",
        "#BOOTCAMP DATA ANALYTICS 2022 WOMAKERSCODE\n",
        "#27/03/22"
      ],
      "metadata": {
        "id": "u2FgnTFOBhDo"
      }
    },
    {
      "cell_type": "markdown",
      "source": [
        "## Desafio Estimando o Preço do Imóvel:"
      ],
      "metadata": {
        "id": "n6XToHRIB825"
      }
    },
    {
      "cell_type": "markdown",
      "source": [
        "\"Suponha que você trabalha em uma empresa do setor imobiliário. Após explorar as\n",
        "principais variáveis que impactam o preco dos imóveis,na semana passada, pediram\n",
        "para você, do time de dados, construir um modelo que estime o preço de um imóvel.\n",
        "Para isso, você utilizará a base de dados desafio_01_preco_imoveis.csv. Como você poderia ajudá-los?\""
      ],
      "metadata": {
        "id": "mW8NpBXxCD4R"
      }
    },
    {
      "cell_type": "code",
      "source": [
        "import pandas as pd\n",
        "import numpy as np"
      ],
      "metadata": {
        "id": "mdJ5YgXRCHVo"
      },
      "execution_count": null,
      "outputs": []
    },
    {
      "cell_type": "code",
      "source": [
        "dados_desafio = pd.read_csv('desafio_01_preco_imoveis.csv')\n",
        "dados_desafio.head(5)"
      ],
      "metadata": {
        "id": "QRy_nXCICWk6"
      },
      "execution_count": null,
      "outputs": []
    },
    {
      "cell_type": "markdown",
      "source": [
        "Estatísticas descritivas:"
      ],
      "metadata": {
        "id": "v9OwNvlmDGpw"
      }
    },
    {
      "cell_type": "code",
      "source": [
        "dados_desafio.describe().round(2) "
      ],
      "metadata": {
        "id": "5hEpA0nUDFNS"
      },
      "execution_count": null,
      "outputs": []
    },
    {
      "cell_type": "markdown",
      "source": [
        "### \"1 - Selecione as principais variáveis que você gostaria de incluir no modelo de precificação do imóvel.\""
      ],
      "metadata": {
        "id": "DR1f-MNIDfyB"
      }
    },
    {
      "cell_type": "markdown",
      "source": [
        "Vamos calcular a matriz de correlação e a partir dela, determinar as variáveis quais incluiremos no modelo de Regressão Linear."
      ],
      "metadata": {
        "id": "ggu9eP1LD7mJ"
      }
    },
    {
      "cell_type": "code",
      "source": [
        "corre=dados_desafio.corr()\n",
        "corre.style.background_gradient(cmap='coolwarm').set_precision(2)"
      ],
      "metadata": {
        "id": "I9gBZvShD-iG"
      },
      "execution_count": null,
      "outputs": []
    },
    {
      "cell_type": "markdown",
      "source": [
        "As 5 variáveis mais correlacionadas com a coluna de preço (price) são: sqft_living (tamanho do imóvel), grade (nota do imóvel) e sqft_above (tamanho da casa acima do solo, excluindo porão), bathrooms (banheiros) e view (número de quartos com vista)."
      ],
      "metadata": {
        "id": "UAi4cqrYEgQy"
      }
    },
    {
      "cell_type": "markdown",
      "source": [
        "### \"Construa um modelo de regressão linear multivariada para estimar o preço do imóvel.\""
      ],
      "metadata": {
        "id": "LzhBNj4JEpBa"
      }
    },
    {
      "cell_type": "code",
      "source": [
        "from sklearn.model_selection import train_test_split #importando o train_test_split da biblioteca scikit-learn"
      ],
      "metadata": {
        "id": "em7q2RTCEuwE"
      },
      "execution_count": null,
      "outputs": []
    },
    {
      "cell_type": "code",
      "source": [
        "y = dados_desafio['price'] #criando uma Series (pandas) para armazenar a variável dependente (y)"
      ],
      "metadata": {
        "id": "FXJNIacYE5YY"
      },
      "execution_count": null,
      "outputs": []
    },
    {
      "cell_type": "code",
      "source": [
        "X = dados_desafio[['sqft_living', 'grade', 'sqft_above', 'bathrooms', 'view']] #criando um DataFrame (pandas) para armazenar as variáveis explicativas (X)"
      ],
      "metadata": {
        "id": "K-oW0VgkFC56"
      },
      "execution_count": null,
      "outputs": []
    },
    {
      "cell_type": "markdown",
      "source": [
        "Criando os datasets de treino e de teste:"
      ],
      "metadata": {
        "id": "c2_EFSHaFkPX"
      }
    },
    {
      "cell_type": "code",
      "source": [
        "X_train, X_test, y_train, y_test = train_test_split(X, y, test_size=0.3, random_state=2811)"
      ],
      "metadata": {
        "id": "XEpwhcwhFk7l"
      },
      "execution_count": null,
      "outputs": []
    },
    {
      "cell_type": "code",
      "source": [
        "#importando LinearRegression e metrics da biblioteca scikit-learn:\n",
        "from sklearn.linear_model import LinearRegression\n",
        "from sklearn import metrics"
      ],
      "metadata": {
        "id": "H_YOaOx2FoMW"
      },
      "execution_count": null,
      "outputs": []
    },
    {
      "cell_type": "code",
      "source": [
        "modelo = LinearRegression() #instanciando a classe LinearRegression()"
      ],
      "metadata": {
        "id": "4crXuYafFqxn"
      },
      "execution_count": null,
      "outputs": []
    },
    {
      "cell_type": "code",
      "source": [
        "#Utilizando o método fit() para estimar o modelo linear utilizando os dados de TREINO (y_train e X_train):\n",
        "modelo.fit(X_train, y_train)"
      ],
      "metadata": {
        "colab": {
          "base_uri": "https://localhost:8080/"
        },
        "id": "F1g1uUJCFzJS",
        "outputId": "c7be7e7a-557f-407d-abbf-134e445ee5e4"
      },
      "execution_count": null,
      "outputs": [
        {
          "output_type": "execute_result",
          "data": {
            "text/plain": [
              "LinearRegression()"
            ]
          },
          "metadata": {},
          "execution_count": 22
        }
      ]
    },
    {
      "cell_type": "markdown",
      "source": [
        "Obtendo o coeficiente de determinação (R²) do modelo estimado com os dados de TREINO:"
      ],
      "metadata": {
        "id": "sHXDjaZHGMxn"
      }
    },
    {
      "cell_type": "code",
      "source": [
        "print('R² = {}'.format(modelo.score(X_train, y_train).round(2)))"
      ],
      "metadata": {
        "colab": {
          "base_uri": "https://localhost:8080/"
        },
        "id": "o5du99i9GNxm",
        "outputId": "36b7c25d-3d17-45fb-a62c-bd251d93faa1"
      },
      "execution_count": null,
      "outputs": [
        {
          "output_type": "stream",
          "name": "stdout",
          "text": [
            "R² = 0.58\n"
          ]
        }
      ]
    },
    {
      "cell_type": "markdown",
      "source": [
        "Gerando previsões para os dados de TESTE (X_test) utilizando o método predict():"
      ],
      "metadata": {
        "id": "y_qnjwA3GtAY"
      }
    },
    {
      "cell_type": "code",
      "source": [
        "y_previsto = modelo.predict(X_test)"
      ],
      "metadata": {
        "id": "wTT65t1gGt-D"
      },
      "execution_count": null,
      "outputs": []
    },
    {
      "cell_type": "markdown",
      "source": [
        "Obtendo o coeficiente de determinação (R²) para as previsões do nosso modelo:"
      ],
      "metadata": {
        "id": "s8O13zpsGxfX"
      }
    },
    {
      "cell_type": "code",
      "source": [
        "print('R² = %s' % metrics.r2_score(y_test, y_previsto).round(2))"
      ],
      "metadata": {
        "colab": {
          "base_uri": "https://localhost:8080/"
        },
        "id": "FaSMCo6qGyFq",
        "outputId": "2756a644-cd1a-4ca5-88c7-b433e95a3ff5"
      },
      "execution_count": null,
      "outputs": [
        {
          "output_type": "stream",
          "name": "stdout",
          "text": [
            "R² = 0.58\n"
          ]
        }
      ]
    },
    {
      "cell_type": "markdown",
      "source": [
        "Carregando o modelo estimado:"
      ],
      "metadata": {
        "id": "mjqYAXgEH-06"
      }
    },
    {
      "cell_type": "code",
      "source": [
        "import pickle"
      ],
      "metadata": {
        "id": "-dtjhR6UIAtG"
      },
      "execution_count": null,
      "outputs": []
    },
    {
      "cell_type": "code",
      "source": [
        "#Salvando o modelo:\n",
        "output = open('modelo_preco', 'wb')\n",
        "pickle.dump(modelo, output)\n",
        "output.close()"
      ],
      "metadata": {
        "id": "VA8yUaCMIfWp"
      },
      "execution_count": null,
      "outputs": []
    },
    {
      "cell_type": "markdown",
      "source": [
        "Testando o modelo!\n",
        "\n",
        "Teste 1:"
      ],
      "metadata": {
        "id": "cU_tWUAyKuJc"
      }
    },
    {
      "cell_type": "code",
      "source": [
        "import pickle\n",
        "\n",
        "modelo = open('modelo_preco','rb')\n",
        "lm_new = pickle.load(modelo)\n",
        "modelo.close()\n",
        "\n",
        "sqft_living = 2570\n",
        "grade = 8\n",
        "sqft_above = 1680\n",
        "bathrooms = 1.00\n",
        "view = 0\n",
        "\n",
        "entrada = [[sqft_living, grade, sqft_above, bathrooms, view]]\n",
        "\n",
        "print('$ {0:.2f}'.format(lm_new.predict(entrada)[0]))"
      ],
      "metadata": {
        "colab": {
          "base_uri": "https://localhost:8080/"
        },
        "id": "6GDanS8jIfq-",
        "outputId": "3dcb65c4-c0b0-419d-901d-8edff0547665"
      },
      "execution_count": null,
      "outputs": [
        {
          "output_type": "stream",
          "name": "stdout",
          "text": [
            "$ 686214.08\n"
          ]
        },
        {
          "output_type": "stream",
          "name": "stderr",
          "text": [
            "/usr/local/lib/python3.7/dist-packages/sklearn/base.py:451: UserWarning: X does not have valid feature names, but LinearRegression was fitted with feature names\n",
            "  \"X does not have valid feature names, but\"\n"
          ]
        }
      ]
    },
    {
      "cell_type": "markdown",
      "source": [
        "Teste 2:"
      ],
      "metadata": {
        "id": "SE3zLPPZLMS6"
      }
    },
    {
      "cell_type": "code",
      "source": [
        "import pickle\n",
        "\n",
        "modelo = open('modelo_preco','rb')\n",
        "lm_new = pickle.load(modelo)\n",
        "modelo.close()\n",
        "\n",
        "sqft_living = 770\n",
        "grade = 6\n",
        "sqft_above = 2170\n",
        "bathrooms = 2.50\n",
        "view = 0\n",
        "\n",
        "entrada = [[sqft_living, grade, sqft_above, bathrooms, view]]\n",
        "\n",
        "print('$ {0:.2f}'.format(lm_new.predict(entrada)[0]))"
      ],
      "metadata": {
        "colab": {
          "base_uri": "https://localhost:8080/"
        },
        "id": "murR4Lb7KZ6e",
        "outputId": "56bd57ed-35a5-478a-eea1-49f412256607"
      },
      "execution_count": null,
      "outputs": [
        {
          "output_type": "stream",
          "name": "stdout",
          "text": [
            "$ 55911.57\n"
          ]
        },
        {
          "output_type": "stream",
          "name": "stderr",
          "text": [
            "/usr/local/lib/python3.7/dist-packages/sklearn/base.py:451: UserWarning: X does not have valid feature names, but LinearRegression was fitted with feature names\n",
            "  \"X does not have valid feature names, but\"\n"
          ]
        }
      ]
    }
  ]
}